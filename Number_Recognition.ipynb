{
  "nbformat": 4,
  "nbformat_minor": 0,
  "metadata": {
    "colab": {
      "provenance": []
    },
    "kernelspec": {
      "name": "python3",
      "display_name": "Python 3"
    },
    "language_info": {
      "name": "python"
    }
  },
  "cells": [
    {
      "cell_type": "markdown",
      "source": [
        "Step 1: Import the necessary libraries."
      ],
      "metadata": {
        "id": "jv62fbHA2yUu"
      }
    },
    {
      "cell_type": "code",
      "execution_count": 1,
      "metadata": {
        "id": "IIVQrc7q2ozd"
      },
      "outputs": [],
      "source": [
        "import numpy as np\n",
        "import matplotlib.pyplot as plt\n",
        "import tensorflow as tf\n",
        "from tensorflow.keras.datasets import mnist\n",
        "from tensorflow.keras.models import Sequential\n",
        "from tensorflow.keras.layers import Dense, Flatten"
      ]
    },
    {
      "cell_type": "markdown",
      "source": [
        "Step 2: Load and preprocess the MNIST dataset."
      ],
      "metadata": {
        "id": "VohPuxMa3DM8"
      }
    },
    {
      "cell_type": "code",
      "source": [
        "# Load the dataset\n",
        "(x_train, y_train), (x_test, y_test) = mnist.load_data()\n",
        "\n",
        "# Normalize pixel values to be between 0 and 1\n",
        "x_train, x_test = x_train / 255.0, x_test / 255.0"
      ],
      "metadata": {
        "colab": {
          "base_uri": "https://localhost:8080/"
        },
        "id": "W4Chle4S3HWO",
        "outputId": "bde9d6ce-df2a-4365-a03f-42940233b289"
      },
      "execution_count": 2,
      "outputs": [
        {
          "output_type": "stream",
          "name": "stdout",
          "text": [
            "Downloading data from https://storage.googleapis.com/tensorflow/tf-keras-datasets/mnist.npz\n",
            "11490434/11490434 [==============================] - 0s 0us/step\n"
          ]
        }
      ]
    },
    {
      "cell_type": "markdown",
      "source": [
        "Step 3: Build the neural network model."
      ],
      "metadata": {
        "id": "iRAWmE_B3NiG"
      }
    },
    {
      "cell_type": "code",
      "source": [
        "model = Sequential([\n",
        "    Flatten(input_shape=(28, 28)),  # Flatten the 28x28 images into a 1D array\n",
        "    Dense(128, activation='relu'),   # Fully connected layer with 128 neurons and ReLU activation\n",
        "    Dense(10, activation='softmax')  # Fully connected layer with 10 neurons (for 10 classes) and softmax activation\n",
        "])\n"
      ],
      "metadata": {
        "id": "CXinnMzS3Qry"
      },
      "execution_count": 3,
      "outputs": []
    },
    {
      "cell_type": "markdown",
      "source": [
        "Step 4: Compile the model."
      ],
      "metadata": {
        "id": "YFicHhvs3ZZk"
      }
    },
    {
      "cell_type": "code",
      "source": [
        "model.compile(optimizer='adam',\n",
        "              loss='sparse_categorical_crossentropy',\n",
        "              metrics=['accuracy'])\n"
      ],
      "metadata": {
        "id": "3sEwKn--3cjn"
      },
      "execution_count": 4,
      "outputs": []
    },
    {
      "cell_type": "markdown",
      "source": [
        "Step 5: Train the model."
      ],
      "metadata": {
        "id": "mNcRZKbk3ma2"
      }
    },
    {
      "cell_type": "code",
      "source": [
        "model.fit(x_train, y_train, epochs=10)\n"
      ],
      "metadata": {
        "colab": {
          "base_uri": "https://localhost:8080/"
        },
        "id": "2HiSQqme3pq8",
        "outputId": "3e098041-f14c-4bbe-d1de-2b6dedaf5036"
      },
      "execution_count": 5,
      "outputs": [
        {
          "output_type": "stream",
          "name": "stdout",
          "text": [
            "Epoch 1/10\n",
            "1875/1875 [==============================] - 10s 5ms/step - loss: 0.2627 - accuracy: 0.9248\n",
            "Epoch 2/10\n",
            "1875/1875 [==============================] - 10s 5ms/step - loss: 0.1169 - accuracy: 0.9652\n",
            "Epoch 3/10\n",
            "1875/1875 [==============================] - 9s 5ms/step - loss: 0.0809 - accuracy: 0.9755\n",
            "Epoch 4/10\n",
            "1875/1875 [==============================] - 9s 5ms/step - loss: 0.0606 - accuracy: 0.9812\n",
            "Epoch 5/10\n",
            "1875/1875 [==============================] - 11s 6ms/step - loss: 0.0475 - accuracy: 0.9857\n",
            "Epoch 6/10\n",
            "1875/1875 [==============================] - 9s 5ms/step - loss: 0.0375 - accuracy: 0.9882\n",
            "Epoch 7/10\n",
            "1875/1875 [==============================] - 7s 4ms/step - loss: 0.0297 - accuracy: 0.9901\n",
            "Epoch 8/10\n",
            "1875/1875 [==============================] - 8s 5ms/step - loss: 0.0252 - accuracy: 0.9917\n",
            "Epoch 9/10\n",
            "1875/1875 [==============================] - 9s 5ms/step - loss: 0.0195 - accuracy: 0.9942\n",
            "Epoch 10/10\n",
            "1875/1875 [==============================] - 7s 4ms/step - loss: 0.0164 - accuracy: 0.9947\n"
          ]
        },
        {
          "output_type": "execute_result",
          "data": {
            "text/plain": [
              "<keras.callbacks.History at 0x783ae8e4e500>"
            ]
          },
          "metadata": {},
          "execution_count": 5
        }
      ]
    },
    {
      "cell_type": "markdown",
      "source": [
        "Step 6: Evaluate the model."
      ],
      "metadata": {
        "id": "eedj29nN4RnO"
      }
    },
    {
      "cell_type": "code",
      "source": [
        "test_loss, test_accuracy = model.evaluate(x_test, y_test, verbose=2)\n",
        "print(\"\\nTest accuracy:\", test_accuracy)\n"
      ],
      "metadata": {
        "colab": {
          "base_uri": "https://localhost:8080/"
        },
        "id": "141dl3qm4VvA",
        "outputId": "cbf3b3cb-f974-4910-fe97-b6fed290a0ef"
      },
      "execution_count": 6,
      "outputs": [
        {
          "output_type": "stream",
          "name": "stdout",
          "text": [
            "313/313 - 1s - loss: 0.0866 - accuracy: 0.9774 - 1s/epoch - 4ms/step\n",
            "\n",
            "Test accuracy: 0.977400004863739\n"
          ]
        }
      ]
    },
    {
      "cell_type": "markdown",
      "source": [
        "Step 7: Make predictions."
      ],
      "metadata": {
        "id": "HazbXciv4b27"
      }
    },
    {
      "cell_type": "code",
      "source": [
        "predictions = model.predict(x_test)\n",
        "predictions"
      ],
      "metadata": {
        "colab": {
          "base_uri": "https://localhost:8080/"
        },
        "id": "JnMXDb5m4gYQ",
        "outputId": "32566a2c-9ba2-4c10-8210-4adeb0bbb86a"
      },
      "execution_count": 7,
      "outputs": [
        {
          "output_type": "stream",
          "name": "stdout",
          "text": [
            "313/313 [==============================] - 1s 2ms/step\n"
          ]
        },
        {
          "output_type": "execute_result",
          "data": {
            "text/plain": [
              "array([[3.2201819e-09, 1.3617325e-10, 2.3785360e-07, ..., 9.9994403e-01,\n",
              "        1.4499634e-06, 7.4691690e-07],\n",
              "       [2.1313151e-10, 1.1890016e-09, 9.9999994e-01, ..., 2.3987776e-20,\n",
              "        2.4427169e-10, 4.2952524e-18],\n",
              "       [4.8966089e-09, 9.9976420e-01, 8.2909874e-06, ..., 4.1938238e-05,\n",
              "        1.8424445e-04, 6.0471619e-09],\n",
              "       ...,\n",
              "       [3.8053101e-17, 1.0043626e-13, 5.0916622e-16, ..., 2.1737248e-09,\n",
              "        4.9187876e-09, 4.2798288e-06],\n",
              "       [3.5433508e-13, 2.4991214e-15, 5.3558435e-15, ..., 1.1801013e-10,\n",
              "        1.7469185e-08, 6.5176136e-14],\n",
              "       [1.2254349e-09, 1.1223423e-14, 7.0884218e-09, ..., 9.1328568e-17,\n",
              "        2.3662436e-10, 2.6558695e-15]], dtype=float32)"
            ]
          },
          "metadata": {},
          "execution_count": 7
        }
      ]
    }
  ]
}